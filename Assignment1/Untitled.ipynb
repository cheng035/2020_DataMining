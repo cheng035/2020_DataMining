{
 "cells": [
  {
   "cell_type": "code",
   "execution_count": 2,
   "metadata": {},
   "outputs": [
    {
     "name": "stdout",
     "output_type": "stream",
     "text": [
      "     sepallength  sepalwidth  petallength  petalwidth              class\n",
      "0            5.1         3.5          1.4         0.2     b'Iris-setosa'\n",
      "1            4.9         3.0          1.4         0.2     b'Iris-setosa'\n",
      "2            4.7         3.2          1.3         0.2     b'Iris-setosa'\n",
      "3            4.6         3.1          1.5         0.2     b'Iris-setosa'\n",
      "4            5.0         3.6          1.4         0.2     b'Iris-setosa'\n",
      "..           ...         ...          ...         ...                ...\n",
      "145          6.7         3.0          5.2         2.3  b'Iris-virginica'\n",
      "146          6.3         2.5          5.0         1.9  b'Iris-virginica'\n",
      "147          6.5         3.0          5.2         2.0  b'Iris-virginica'\n",
      "148          6.2         3.4          5.4         2.3  b'Iris-virginica'\n",
      "149          5.9         3.0          5.1         1.8  b'Iris-virginica'\n",
      "\n",
      "[150 rows x 5 columns]\n"
     ]
    }
   ],
   "source": [
    "from scipy.io import arff\n",
    "import pandas as pd\n",
    "\n",
    "data = arff.loadarff('iris.arff')\n",
    "df = pd.DataFrame(data[0])\n",
    "print(df)"
   ]
  },
  {
   "cell_type": "markdown",
   "metadata": {},
   "source": [
    "#This is how we "
   ]
  },
  {
   "cell_type": "code",
   "execution_count": null,
   "metadata": {},
   "outputs": [],
   "source": []
  }
 ],
 "metadata": {
  "kernelspec": {
   "display_name": "Python 3",
   "language": "python",
   "name": "python3"
  },
  "language_info": {
   "codemirror_mode": {
    "name": "ipython",
    "version": 3
   },
   "file_extension": ".py",
   "mimetype": "text/x-python",
   "name": "python",
   "nbconvert_exporter": "python",
   "pygments_lexer": "ipython3",
   "version": "3.7.8"
  }
 },
 "nbformat": 4,
 "nbformat_minor": 4
}
